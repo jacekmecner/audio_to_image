{
  "nbformat": 4,
  "nbformat_minor": 0,
  "metadata": {
    "colab": {
      "provenance": [],
      "gpuType": "V28"
    },
    "kernelspec": {
      "name": "python3",
      "display_name": "Python 3"
    },
    "language_info": {
      "name": "python"
    },
    "accelerator": "TPU"
  },
  "cells": [
    {
      "cell_type": "code",
      "execution_count": 8,
      "metadata": {
        "id": "opAdADfrl2aT"
      },
      "outputs": [],
      "source": [
        "import os\n",
        "import librosa\n",
        "import librosa.display\n",
        "import matplotlib.pyplot as plt"
      ]
    },
    {
      "cell_type": "code",
      "source": [
        "from google.colab import drive\n",
        "drive.mount('/content/drive')"
      ],
      "metadata": {
        "colab": {
          "base_uri": "https://localhost:8080/"
        },
        "id": "a7XXema6ma3B",
        "outputId": "5ae93307-9b80-44f0-9468-0e85664fe2b5"
      },
      "execution_count": 9,
      "outputs": [
        {
          "output_type": "stream",
          "name": "stdout",
          "text": [
            "Drive already mounted at /content/drive; to attempt to forcibly remount, call drive.mount(\"/content/drive\", force_remount=True).\n"
          ]
        }
      ]
    },
    {
      "cell_type": "code",
      "source": [
        "import cv2  # biblioteka graficzna opencv\n",
        "import os   # functions for interacting with the operating system\n",
        "import librosa  # biblioteka do przetwarzania dźwięku\n",
        "import matplotlib.pyplot as plt  # biblioteka do wizualizacji\n",
        "import librosa.display\n",
        "\n",
        "def audio_to_image(indir, outdir):  # definicja funkcji\n",
        "\n",
        "    # Tworzenie folderu wyjściowego, jeśli nie istnieje\n",
        "    if not os.path.exists(outdir):\n",
        "        os.makedirs(outdir)\n",
        "\n",
        "    samples = []\n",
        "    labels = []\n",
        "\n",
        "    print('os.listdir(indir)=', os.listdir(indir))  # Test RB\n",
        "    print('indir=', indir)  # Test RB\n",
        "\n",
        "    for class_dir in os.listdir(indir):\n",
        "        class_path = os.path.join(indir, class_dir)\n",
        "        if not os.path.isdir(class_path):\n",
        "            print(f\"os.path.isdir({class_path})=\", os.path.isdir(class_path))  # wypisanie nazwy klasy - czyli nazwy katalogu z którego pobierane są pliki audio\n",
        "            continue\n",
        "\n",
        "        # Tworzenie folderu wyjściowego dla klasy (gatunku), jeśli nie istnieje\n",
        "        output_class_dir = os.path.join(outdir, class_dir)\n",
        "        if os.path.exists(output_class_dir):\n",
        "            print(f\"Folder {output_class_dir} już istnieje, pomijam ten gatunek.\")\n",
        "            continue\n",
        "        else:\n",
        "            os.makedirs(output_class_dir)\n",
        "\n",
        "        print(\"Loading:\", class_dir)  # wypisanie nazwy klasy - czyli nazwy katalogu z którego pobierane są pliki audio\n",
        "        the_class = class_dir\n",
        "\n",
        "        for file in os.listdir(class_path):\n",
        "            if file.endswith('.wav'):  # Upewnij się, że plik jest plikiem audio\n",
        "                audio_path = os.path.join(class_path, file)\n",
        "\n",
        "                # Wczytanie pliku audio i generowanie spektrogramu\n",
        "                y, sr = librosa.load(audio_path, sr=None, duration=30.0)\n",
        "                S = librosa.amplitude_to_db(abs(librosa.stft(y)), ref=1.0)\n",
        "\n",
        "                # Rysowanie spektrogramu\n",
        "                plt.figure(figsize=(10, 4))\n",
        "                librosa.display.specshow(S, sr=sr, y_axis='log', x_axis='time')\n",
        "                plt.title(f'{class_dir.upper()} Spectrogram')\n",
        "                plt.colorbar(format='%+2.0f dB')\n",
        "                plt.tight_layout()\n",
        "\n",
        "                # Ścieżka do zapisu spektrogramu\n",
        "                output_image_path = os.path.join(output_class_dir, file.replace('.wav', '.png'))\n",
        "                plt.savefig(output_image_path, dpi=200)\n",
        "                plt.close()\n",
        "\n",
        "                # Dodanie ścieżek i etykiet do list\n",
        "                samples.append(output_image_path)\n",
        "                labels.append(the_class)\n",
        "\n",
        "    return samples, labels\n",
        "\n",
        "# Przykład użycia\n",
        "indir = '/content/drive/MyDrive/genres_original'  # Katalog źródłowy z plikami audio\n",
        "outdir = '/content/gtzan_spectrograms'  # Katalog do zapisu spektrogramów\n",
        "samples, labels = audio_to_image(indir, outdir)\n",
        "\n",
        "print('Loaded', len(samples), 'samples')  # Liczba spektrogramów\n",
        "print('Classes:', set(labels))  # Unikalne etykiety klas"
      ],
      "metadata": {
        "colab": {
          "base_uri": "https://localhost:8080/"
        },
        "id": "YkrpMoB8oR8k",
        "outputId": "dd999d0d-9140-4ae2-d88b-b501b98761ab"
      },
      "execution_count": 12,
      "outputs": [
        {
          "output_type": "stream",
          "name": "stdout",
          "text": [
            "os.listdir(indir)= ['classical', 'rock', 'pop', 'disco', 'jazz', 'reggae', 'country', 'blues', 'hiphop', 'metal']\n",
            "indir= /content/drive/MyDrive/genres_original\n",
            "Folder /content/gtzan_spectrograms/classical już istnieje, pomijam ten gatunek.\n",
            "Folder /content/gtzan_spectrograms/rock już istnieje, pomijam ten gatunek.\n",
            "Folder /content/gtzan_spectrograms/pop już istnieje, pomijam ten gatunek.\n",
            "Folder /content/gtzan_spectrograms/disco już istnieje, pomijam ten gatunek.\n",
            "Loading: jazz\n",
            "Folder /content/gtzan_spectrograms/reggae już istnieje, pomijam ten gatunek.\n",
            "Folder /content/gtzan_spectrograms/country już istnieje, pomijam ten gatunek.\n",
            "Folder /content/gtzan_spectrograms/blues już istnieje, pomijam ten gatunek.\n",
            "Folder /content/gtzan_spectrograms/hiphop już istnieje, pomijam ten gatunek.\n",
            "Folder /content/gtzan_spectrograms/metal już istnieje, pomijam ten gatunek.\n",
            "Loaded 99 samples\n",
            "Classes: {'jazz'}\n"
          ]
        }
      ]
    }
  ]
}